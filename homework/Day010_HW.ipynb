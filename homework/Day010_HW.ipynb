{
 "cells": [
  {
   "cell_type": "markdown",
   "metadata": {},
   "source": [
    "# 其他工具：Grab、PyQuery\n",
    "\n",
    "\n",
    "* 利用 Grab 套件的存取 HTML 資源\n",
    "* 利用 PyQuery 套件的解析 HTML 格式\n"
   ]
  },
  {
   "cell_type": "markdown",
   "metadata": {},
   "source": [
    "## 作業目標\n",
    "\n",
    "將之前用 requests + beatifulsoup 實作的方式，改寫成 grab + pyquery，並且比較有哪些地方不同。\n",
    "\n",
    "\n",
    "\n"
   ]
  },
  {
   "cell_type": "markdown",
   "metadata": {},
   "source": [
    "## requests + BeautifulSoup\n"
   ]
  },
  {
   "cell_type": "code",
   "execution_count": 7,
   "metadata": {},
   "outputs": [
    {
     "name": "stdout",
     "output_type": "stream",
     "text": [
      "<class 'bs4.BeautifulSoup'> <title>Dcard</title>\n"
     ]
    }
   ],
   "source": [
    "import requests\n",
    "from bs4 import BeautifulSoup\n",
    "\n",
    "url = \"https://www.dcard.tw/f\"\n",
    "\n",
    "resp = requests.get(url)\n",
    "soup = BeautifulSoup(resp.text)\n",
    "print(type(soup), soup.title)"
   ]
  },
  {
   "cell_type": "code",
   "execution_count": 13,
   "metadata": {},
   "outputs": [
    {
     "name": "stdout",
     "output_type": "stream",
     "text": [
      "(function(w,d,s,l,i){w[l]=w[l]||[];w[l].push({'gtm.start':\n",
      "      new Date().getTime(),event:'gtm.js'});var f=d.getElementsByTagName(s)[0],\n",
      "      j=d.createElement(s),dl=l!='dataLayer'?'&l='+l:'';j.async=true;j.src=\n",
      "      'https://www.googletagmanager.com/gtm.js?id='+i+dl;f.parentNode.insertBefore(j,f);\n",
      "      })(window,document,'script','dataLayer','GTM-TWLTW4M');Dcard{\"@context\":\"https://schema.org\",\"@type\":\"CollectionPage\",\"name\":\"Dcard\",\"url\":\"https://www.dcard.tw//f\",\"description\":\"廣受年輕人喜愛的 Dcard 是台灣最大的匿名交流平台，舉凡時事話題、感情心情、吃喝玩樂、學習工作等，都有卡友陪你聊！\"}{\"@context\":\"https://schema.org\",\"@type\":\"BreadcrumbList\",\"itemListElement\":[{\"@type\":\"ListItem\",\"position\":1,\"name\":\"Dcard\",\"item\":\"https://www.dcard.tw/\"},{\"@type\":\"ListItem\",\"position\":2,\"name\":\"全部\",\"item\":\"https://www.dcard.tw//f\"}]}\n",
      "/* sc-component-id: sc-global-1522344194 */\n",
      "body{background-color:#00324e;}\n",
      "/* sc-component-id: j5hcf9-0 */\n",
      ".jGEwPe{display:none;}\n",
      "/* sc-component-id: sc-1rm1ozc-0 */\n",
      ".homstF{display:-webkit-inline-box;display:-webkit-inline-flex;display:-ms-inline-flexbox;display:inline-flex;vertical-align:top;width:44px;height:44px;fill:#e1e1e1;stroke:none;padding:px;-webkit-transition:fill 0.15s cubic-bezier(.4,0,.2,1);transition:fill 0.15s cubic-bezier(.4,0,.2,1);} .homstF img,.homstF svg{height:100%;width:100%;}.bbbsLJ{display:-webkit-inline-box;display:-webkit-inline-flex;display:-ms-inline-flexbox;display:inline-flex;vertical-align:top;width:24px;height:24px;fill:#e1e1e1;stroke:none;padding:px;-webkit-transition:fill 0.15s cubic-bezier(.4,0,.2,1);transition:fill 0.15s cubic-bezier(.4,0,.2,1);} .bbbsLJ img,.bbbsLJ svg{height:100%;width:100%;}.jpXdFc{display:-webkit-inline-box;display:-webkit-inline-flex;display:-ms-inline-flexbox;display:inline-flex;vertical-align:top;width:24px;height:24px;fill:#fff;stroke:none;padding:px;-webkit-transition:fill 0.15s cubic-bezier(.4,0,.2,1);transition:fill 0.15s cubic-bezier(.4,0,.2,1);} .jpXdFc img,.jpXdFc svg{height:100%;width:100%;}.kfXdDt{display:-webkit-inline-box;display:-webkit-inline-flex;display:-ms-inline-flexbox;display:inline-flex;vertical-align:top;width:40px;height:40px;fill:#e1e1e1;stroke:none;padding:px;-webkit-transition:fill 0.15s cubic-bezier(.4,0,.2,1);transition:fill 0.15s cubic-bezier(.4,0,.2,1);} .kfXdDt img,.kfXdDt svg{height:100%;width:100%;}.jbJUmh{display:-webkit-inline-box;display:-webkit-inline-flex;display:-ms-inline-flexbox;display:inline-flex;vertical-align:top;width:45px;height:45px;fill:rgb(233,233,233);stroke:none;padding:px;-webkit-transition:fill 0.15s cubic-bezier(.4,0,.2,1);transition:fill 0.15s cubic-bezier(.4,0,.2,1);} .jbJUmh img,.jbJUmh svg{height:100%;width:100%;}.hCDZLD{display:-webkit-inline-box;display:-webkit-inline-flex;display:-ms-inline-flexbox;display:inline-flex;vertical-align:top;width:20px;height:20px;fill:#fff;stroke:none;padding:px;-webkit-transition:fill 0.15s cubic-bezier(.4,0,.2,1);transition:fill 0.15s cubic-bezier(.4,0,.2,1);} .hCDZLD img,.hCDZLD svg{height:100%;width:100%;}.gEBqGb{display:-webkit-inline-box;display:-webkit-inline-flex;display:-ms-inline-flexbox;display:inline-flex;vertical-align:top;width:26px;height:26px;fill:#fff;stroke:none;padding:px;-webkit-transition:fill 0.15s cubic-bezier(.4,0,.2,1);transition:fill 0.15s cubic-bezier(.4,0,.2,1);} .gEBqGb img,.gEBqGb svg{height:100%;width:100%;}.LjbcL{display:-webkit-inline-box;display:-webkit-inline-flex;display:-ms-inline-flexbox;display:inline-flex;vertical-align:top;width:24px;height:24px;fill:rgba(0,0,0,0.2);stroke:none;padding:px;-webkit-transition:fill 0.15s cubic-bezier(.4,0,.2,1);transition:fill 0.15s cubic-bezier(.4,0,.2,1);} .LjbcL img,.LjbcL svg{height:100%;width:100%;}.DkLWL{display:-webkit-inline-box;display:-webkit-inline-flex;display:-ms-inline-flexbox;display:inline-flex;vertical-align:top;width:28px;height:28px;fill:#c4c4c4;stroke:none;padding:px;-webkit-transition:fill 0.15s cubic-bezier(.4,0,.2,1);transition:fill 0.15s cubic-bezier(.4,0,.2,1);} .DkLWL img,.DkLWL svg{height:100%;width:100%;}.drkUgx{display:-webkit-inline-box;display:-webkit-inline-flex;display:-ms-inline-flexbox;display:inline-flex;vertical-align:top;width:20px;height:20px;fill:#e1e1e1;stroke:none;padding:px;-webkit-transition:fill 0.15s cubic-bezier(.4,0,.2,1);transition:fill 0.15s cubic-bezier(.4,0,.2,1);} .drkUgx img,.drkUgx svg{height:100%;width:100%;}.cdmmlB{display:-webkit-inline-box;display:-webkit-inline-flex;display:-ms-inline-flexbox;display:inline-flex;vertical-align:top;width:16px;height:16px;fill:rgba(0,0,0,.6);stroke:none;padding:px;-webkit-transition:fill 0.15s cubic-bezier(.4,0,.2,1);transition:fill 0.15s cubic-bezier(.4,0,.2,1);} .cdmmlB img,.cdmmlB svg{height:100%;width:100%;}.gvAvJF{display:-webkit-inline-box;display:-webkit-inline-flex;display:-ms-inline-flexbox;display:inline-flex;vertical-align:top;width:20px;height:20px;fill:#3397cf;stroke:none;padding:px;-webkit-transition:fill 0.15s cubic-bezier(.4,0,.2,1);transition:fill 0.15s cubic-bezier(.4,0,.2,1);} .gvAvJF img,.gvAvJF svg{height:100%;width:100%;}.bvyBIx{display:-webkit-inline-box;display:-webkit-inline-flex;display:-ms-inline-flexbox;display:inline-flex;vertical-align:top;width:18px;height:18px;fill:#fff;stroke:none;padding:px;-webkit-transition:fill 0.15s cubic-bezier(.4,0,.2,1);transition:fill 0.15s cubic-bezier(.4,0,.2,1);} .bvyBIx img,.bvyBIx svg{height:100%;width:100%;}.iQWJqM{display:-webkit-inline-box;display:-webkit-inline-flex;display:-ms-inline-flexbox;display:inline-flex;vertical-align:top;width:16px;height:16px;fill:#c4c4c4;stroke:none;padding:px;-webkit-transition:fill 0.15s cubic-bezier(.4,0,.2,1);transition:fill 0.15s cubic-bezier(.4,0,.2,1);} .iQWJqM img,.iQWJqM svg{height:100%;width:100%;}.bRSgfe{display:-webkit-inline-box;display:-webkit-inline-flex;display:-ms-inline-flexbox;display:inline-flex;vertical-align:top;width:21px;height:21px;fill:#e1e1e1;stroke:none;padding:px;-webkit-transition:fill 0.15s cubic-bezier(.4,0,.2,1);transition:fill 0.15s cubic-bezier(.4,0,.2,1);} .bRSgfe img,.bRS\n"
     ]
    }
   ],
   "source": [
    "print(soup.text[0:6000])"
   ]
  },
  {
   "cell_type": "markdown",
   "metadata": {},
   "source": [
    "## Grab + PyQuery"
   ]
  },
  {
   "cell_type": "code",
   "execution_count": 14,
   "metadata": {
    "scrolled": false
   },
   "outputs": [
    {
     "data": {
      "text/plain": [
       "b'<!DOCTYPE html><html lang=\"zh-TW\"><head prefix=\"og: http://ogp.me/ns#\" itemscope=\"\" itemType=\"https://schema.org/WebSite\"><meta charSet=\"utf-8\"/><meta http-equiv=\"X-UA-Compatible\" content=\"IE=edge\"/><meta name=\"viewport\" content=\"width=device-width, initial-scale=1, minimum-scale=1\"/><meta name=\"apple-mobile-web-app-status-bar-style\" content=\"default\"/><link rel=\"stylesheet\" type=\"text/css\" href=\"https://fonts.googleapis.com/css?family=Roboto:400,300\"/><meta name=\"application-name\" content=\"Dcard\"/><meta name=\"apple-itunes-app\" content=\"app-id=951353454\"/><meta name=\"theme-color\" content=\"#006aa6\"/><meta name=\"mobile-web-app-capable\" content=\"yes\"/><meta name=\"apple-mobile-web-app-capable\" content=\"yes\"/><meta name=\"supported-color-schemes\" content=\"light\"/><meta property=\"fb:app_id\" content=\"211628828926493\"/><meta property=\"fb:pages\" content=\"178875832200695,577748865730563,1333515469994506,619122564952487,804004803032067,178024805867764\"/><meta property=\"al:ios:app_store_id\" content=\"951353454\"/><meta property=\"al:ios:app_name\" content=\"Dcard\"/><meta property=\"al:android:package\" content=\"com.sparkslab.dcardreader\"/><meta property=\"al:android:app_name\" content=\"Dcard\"/><link rel=\"manifest\" href=\"/_next/static/manifest.json\"/><link rel=\"icon\" type=\"image/png\" sizes=\"16x16\" href=\"/_next/static/images/icon-16-1daa7474e5fe761a7239d12c56b88680.png\"/><link rel=\"icon\" type=\"image/png\" sizes=\"24x24\" href=\"/_next/static/images/icon-24-7bfd8a52a6756e15edaa617b106a5c55.png\"/><link rel=\"icon\" type=\"image/png\" sizes=\"32x32\" href=\"/_next/static/images/icon-32-54392e6e864b1f822d54a543ee54a0f9.png\"/><link rel=\"icon\" type=\"image/png\" sizes=\"192x192\" href=\"/_next/static/images/icon-192-49149beb434e1f6bccac918f6608564c.png\"/><link rel=\"apple-touch-icon\" type=\"image/png\" sizes=\"57x57\" href=\"/_next/static/images/icon-57-c95fcd930b41dbc6de0495348939582f.png\"/><link rel=\"apple-touch-icon\" type=\"image/png\" sizes=\"72x72\" href=\"/_next/static/images/icon-72-69b64cb9aadc811dce34ea6ac772cd8f.png\"/><link rel=\"apple-touch-icon\" type=\"image/png\" sizes=\"76x76\" href=\"/_next/static/images/icon-76-67203a784694f8378d2f51f24970e2f7.png\"/><link rel=\"apple-touch-icon\" type=\"image/png\" sizes=\"114x114\" href=\"/_next/static/images/icon-114-c58f911deb58868e8cc68ea1e09cc688.png\"/><link rel=\"apple-touch-icon\" type=\"image/png\" sizes=\"120x120\" href=\"/_next/static/images/icon-120-f3ada61716c0cc460c2cbe72b18fb9b4.png\"/><link rel=\"apple-touch-icon\" type=\"image/png\" sizes=\"144x144\" href=\"/_next/static/images/icon-144-679d873aa4b58f1117915545d3fdfa1d.png\"/><link rel=\"apple-touch-icon\" type=\"image/png\" sizes=\"152x152\" href=\"/_next/static/images/icon-152-b7ec982f1f49f590c97611e0e5e9f7f3.png\"/><link rel=\"apple-touch-icon\" type=\"image/png\" sizes=\"180x180\" href=\"/_next/static/images/icon-180-2665760e1b88b5af7a3cfbdc532bae20.png\"/><link rel=\"shortcut icon\" type=\"image/png\" href=\"/_next/static/images/icon-32-54392e6e864b1f822d54a543ee54a0f9.png\"/><script>(function(w,d,s,l,i){w[l]=w[l]||[];w[l].push({\\'gtm.start\\':\\n      new Date().getTime(),event:\\'gtm.js\\'});var f=d.getElementsByTagName(s)[0],\\n      j=d.createElement(s),dl=l!=\\'dataLayer\\'?\\'&l=\\'+l:\\'\\';j.async=true;j.src=\\n      \\'https://www.googletagmanager.com/gtm.js?id=\\'+i+dl;f.parentNode.insertBefore(j,f);\\n      })(window,document,\\'script\\',\\'dataLayer\\',\\'GTM-TWLTW4M\\');</script><meta name=\"viewport\" content=\"width=device-width,minimum-scale=1,initial-scale=1\"/><meta charSet=\"utf-8\"/><meta name=\"description\" content=\"\\xe5\\xbb\\xa3\\xe5\\x8f\\x97\\xe5\\xb9\\xb4\\xe8\\xbc\\x95\\xe4\\xba\\xba\\xe5\\x96\\x9c\\xe6\\x84\\x9b\\xe7\\x9a\\x84 Dcard \\xe6\\x98\\xaf\\xe5\\x8f\\xb0\\xe7\\x81\\xa3\\xe6\\x9c\\x80\\xe5\\xa4\\xa7\\xe7\\x9a\\x84\\xe5\\x8c\\xbf\\xe5\\x90\\x8d\\xe4\\xba\\xa4\\xe6\\xb5\\x81\\xe5\\xb9\\xb3\\xe5\\x8f\\xb0\\xef\\xbc\\x8c\\xe8\\x88\\x89\\xe5\\x87\\xa1\\xe6\\x99\\x82\\xe4\\xba\\x8b\\xe8\\xa9\\xb1\\xe9\\xa1\\x8c\\xe3\\x80\\x81\\xe6\\x84\\x9f\\xe6\\x83\\x85\\xe5\\xbf\\x83\\xe6\\x83\\x85\\xe3\\x80\\x81\\xe5\\x90\\x83\\xe5\\x96\\x9d\\xe7\\x8e\\xa9\\xe6\\xa8\\x82\\xe3\\x80\\x81\\xe5\\xad\\xb8\\xe7\\xbf\\x92\\xe5\\xb7\\xa5\\xe4\\xbd\\x9c\\xe7\\xad\\x89\\xef\\xbc\\x8c\\xe9\\x83\\xbd\\xe6\\x9c\\x89\\xe5\\x8d\\xa1\\xe5\\x8f\\x8b\\xe9\\x99\\xaa\\xe4\\xbd\\xa0\\xe8\\x81\\x8a\\xef\\xbc\\x81\"/><meta property=\"og:description\" content=\"\\xe5\\xbb\\xa3\\xe5\\x8f\\x97\\xe5\\xb9\\xb4\\xe8\\xbc\\x95\\xe4\\xba\\xba\\xe5\\x96\\x9c\\xe6\\x84\\x9b\\xe7\\x9a\\x84 Dcard \\xe6\\x98\\xaf\\xe5\\x8f\\xb0\\xe7\\x81\\xa3\\xe6\\x9c\\x80\\xe5\\xa4\\xa7\\xe7\\x9a\\x84\\xe5\\x8c\\xbf\\xe5\\x90\\x8d\\xe4\\xba\\xa4\\xe6\\xb5\\x81\\xe5\\xb9\\xb3\\xe5\\x8f\\xb0\\xef\\xbc\\x8c\\xe8\\x88\\x89\\xe5\\x87\\xa1\\xe6\\x99\\x82\\xe4\\xba\\x8b\\xe8\\xa9\\xb1\\xe9\\xa1\\x8c\\xe3\\x80\\x81\\xe6\\x84\\x9f\\xe6\\x83\\x85\\xe5\\xbf\\x83\\xe6\\x83\\x85\\xe3\\x80\\x81\\xe5\\x90\\x83\\xe5\\x96\\x9d\\xe7\\x8e\\xa9\\xe6\\xa8\\x82\\xe3\\x80\\x81\\xe5\\xad\\xb8\\xe7\\xbf\\x92\\xe5\\xb7\\xa5\\xe4\\xbd\\x9c\\xe7\\xad\\x89\\xef\\xbc\\x8c\\xe9\\x83\\xbd\\xe6\\x9c\\x89\\xe5\\x8d\\xa1\\xe5\\x8f\\x8b\\xe9\\x99\\xaa\\xe4\\xbd\\xa0\\xe8\\x81\\x8a\\xef\\xbc\\x81\"/><meta property=\"og:type\" content=\"website\"/><meta property=\"twitter:description\" content=\"\\xe5\\xbb\\xa3\\xe5\\x8f\\x97\\xe5\\xb9\\xb4\\xe8\\xbc\\x95\\xe4\\xba\\xba\\xe5\\x96\\x9c\\xe6\\x84\\x9b\\xe7\\x9a\\x84 Dcard \\xe6\\x98\\xaf\\xe5\\x8f\\xb0\\xe7\\x81\\xa3\\xe6\\x9c\\x80\\xe5\\xa4\\xa7\\xe7\\x9a\\x84\\xe5\\x8c\\xbf\\xe5\\x90\\x8d\\xe4\\xba\\xa4\\xe6\\xb5\\x81\\xe5\\xb9\\xb3\\xe5\\x8f\\xb0\\xef\\xbc\\x8c\\xe8\\x88\\x89\\xe5\\x87\\xa1\\xe6\\x99\\x82\\xe4\\xba\\x8b\\xe8\\xa9\\xb1\\xe9\\xa1\\x8c\\xe3\\x80\\x81\\xe6\\x84\\x9f\\xe6\\x83\\x85\\xe5\\xbf\\x83\\xe6\\x83\\x85\\xe3\\x80\\x81\\xe5\\x90\\x83\\xe5\\x96\\x9d\\xe7\\x8e\\xa9\\xe6\\xa8\\x82\\xe3\\x80\\x81\\xe5\\xad\\xb8\\xe7\\xbf\\x92\\xe5\\xb7\\xa5\\xe4\\xbd\\x9c\\xe7\\xad\\x89\\xef\\xbc\\x8c\\xe9\\x83\\xbd\\xe6\\x9c\\x89\\xe5\\x8d\\xa1\\xe5\\x8f\\x8b\\xe9\\x99\\xaa\\xe4\\xbd\\xa0\\xe8\\x81\\x8a\\xef\\xbc\\x81\"/><meta name=\"image\" itemProp=\"image\" content=\"https://www.dcard.tw//images/landing.png\"/><meta property=\"og:image\" content=\"https://www.dcard.tw//images/landing.png\"/><meta property=\"og:image:secure_url\" content=\"https://www.dcard.tw//images/landing.png\"/><meta property=\"twitter:image\" content=\"https://www.dcard.tw//images/landing.png\"/><title>Dcard</title><link rel=\"canonical\" href=\"https://www.dcard.tw//f\"/><meta name=\"url\" itemProp=\"url\" content=\"https://www.dcard.tw//f\"/><meta property=\"og:site_name\" content=\"Dcard\"/><meta property=\"og:title\" content=\"Dcard\"/><meta property=\"og:url\" content=\"https://www.dcard.tw//f\"/><meta property=\"twitter:title\" content=\"Dcard\"/><meta property=\"al:android:url\" content=\"dcard://category/all/%E5%85%A8%E9%83%A8/hot\"/><meta property=\"al:ios:url\" content=\"dcard://category\"/><script type=\"application/ld+json\">{\"@context\":\"https://schema.org\",\"@type\":\"CollectionPage\",\"name\":\"Dcard\",\"url\":\"https://www.dcard.tw//f\",\"description\":\"\\xe5\\xbb\\xa3\\xe5\\x8f\\x97\\xe5\\xb9\\xb4\\xe8\\xbc\\x95\\xe4\\xba\\xba\\xe5\\x96\\x9c\\xe6\\x84\\x9b\\xe7\\x9a\\x84 Dcard \\xe6\\x98\\xaf\\xe5\\x8f\\xb0\\xe7\\x81\\xa3\\xe6\\x9c\\x80\\xe5\\xa4\\xa7\\xe7\\x9a\\x84\\xe5\\x8c\\xbf\\xe5\\x90\\x8d\\xe4\\xba\\xa4\\xe6\\xb5\\x81\\xe5\\xb9\\xb3\\xe5\\x8f\\xb0\\xef\\xbc\\x8c\\xe8\\x88\\x89\\xe5\\x87\\xa1\\xe6\\x99\\x82\\xe4\\xba\\x8b\\xe8\\xa9\\xb1\\xe9\\xa1\\x8c\\xe3\\x80\\x81\\xe6\\x84\\x9f\\xe6\\x83\\x85\\xe5\\xbf\\x83\\xe6\\x83\\x85\\xe3\\x80\\x81\\xe5\\x90\\x83\\xe5\\x96\\x9d\\xe7\\x8e\\xa9\\xe6\\xa8\\x82\\xe3\\x80\\x81\\xe5\\xad\\xb8\\xe7\\xbf\\x92\\xe5\\xb7\\xa5\\xe4\\xbd\\x9c\\xe7\\xad\\x89\\xef\\xbc\\x8c\\xe9\\x83\\xbd\\xe6\\x9c\\x89\\xe5\\x8d\\xa1\\xe5\\x8f\\x8b\\xe9\\x99\\xaa\\xe4\\xbd\\xa0\\xe8\\x81\\x8a\\xef\\xbc\\x81\"}</script><script type=\"application/ld+json\">{\"@context\":\"https://schema.org\",\"@type\":\"BreadcrumbList\",\"itemListElement\":[{\"@type\":\"ListItem\",\"position\":1,\"name\":\"Dcard\",\"item\":\"https://www.dcard.tw/\"},{\"@type\":\"ListItem\",\"position\":2,\"name\":\"\\xe5\\x85\\xa8\\xe9\\x83\\xa8\",\"item\":\"https://www.dcard.tw//f\"}]}</script><meta name=\"next-head-count\" content=\"21\"/><link rel=\"preload\" href=\"/_next/static/css/6d1bbc10820647a103b8.css\" as=\"style\"/><link rel=\"stylesheet\" href=\"/_next/static/css/6d1bbc10820647a103b8.css\"/><link rel=\"preload\" href=\"/_next/static/-oRttXcCNgT0xAJ5t9MsW/pages/forum.js\" as=\"script\"/><link rel=\"preload\" href=\"/_next/static/-oRttXcCNgT0xAJ5t9MsW/pages/_app.js\" as=\"script\"/><link rel=\"preload\" href=\"/_next/static/chunks/c78d26b1.fa356ead2a0a74605e89.js\" as=\"script\"'"
      ]
     },
     "execution_count": 14,
     "metadata": {},
     "output_type": "execute_result"
    }
   ],
   "source": [
    "from grab import Grab\n",
    "g = Grab()\n",
    "respgrab = g.go(url)\n",
    "respgrab.body[0:6000]"
   ]
  },
  {
   "cell_type": "code",
   "execution_count": 5,
   "metadata": {},
   "outputs": [
    {
     "name": "stdout",
     "output_type": "stream",
     "text": [
      "<class 'pyquery.pyquery.PyQuery'> Dcard\n"
     ]
    }
   ],
   "source": [
    "from pyquery import PyQuery as pq\n",
    "doc = pq(respgrab.body)\n",
    "title = doc('title')\n",
    "print(type(title), title.text())"
   ]
  }
 ],
 "metadata": {
  "kernelspec": {
   "display_name": "Python 3",
   "language": "python",
   "name": "python3"
  },
  "language_info": {
   "codemirror_mode": {
    "name": "ipython",
    "version": 3
   },
   "file_extension": ".py",
   "mimetype": "text/x-python",
   "name": "python",
   "nbconvert_exporter": "python",
   "pygments_lexer": "ipython3",
   "version": "3.7.6"
  }
 },
 "nbformat": 4,
 "nbformat_minor": 2
}
