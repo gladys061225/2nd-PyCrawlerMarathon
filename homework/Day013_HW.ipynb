{
 "cells": [
  {
   "cell_type": "markdown",
   "metadata": {},
   "source": [
    "# PTT 網路爬蟲實作練習\n",
    "\n",
    "\n",
    "* 能夠利用 Request + BeatifulSour 撰寫爬蟲，並存放到合適的資料結構\n"
   ]
  },
  {
   "cell_type": "markdown",
   "metadata": {},
   "source": [
    "## 作業目標\n",
    "\n",
    "根據範例 ，完成以下問題：\n",
    "\n",
    "* ① 印出最新文章的「作者」「標題」「時間」\n",
    "* ② 印出第一頁所有文章的「作者」「標題」「時間」\n"
   ]
  },
  {
   "cell_type": "markdown",
   "metadata": {},
   "source": [
    "### ① 印出最新文章的「作者」「標題」「時間」"
   ]
  },
  {
   "cell_type": "code",
   "execution_count": 1,
   "metadata": {},
   "outputs": [],
   "source": [
    "import requests\n",
    "from bs4 import BeautifulSoup\n",
    "\n",
    "url = \"https://www.ptt.cc/bbs/NBA/index.html\"\n",
    "r = requests.get(url)\n",
    "\n",
    "soup = BeautifulSoup(r.text, \"html5lib\")"
   ]
  },
  {
   "cell_type": "code",
   "execution_count": 2,
   "metadata": {},
   "outputs": [
    {
     "name": "stdout",
     "output_type": "stream",
     "text": [
      "Title     [新聞] 韋德力薦角逐最佳防守球員 史馬特：真的\n",
      "Author                  sodistrues\n",
      "Name:  3/10, dtype: object\n"
     ]
    }
   ],
   "source": [
    "import pandas as pd\n",
    "\n",
    "Author = []\n",
    "Title = []\n",
    "Date = []\n",
    "for d in soup.find_all(class_= \"r-ent\"):\n",
    "    Author.append(d.find(class_=\"author\").text.replace(\"\\t\", \"\").replace(\"\\n\", \"\"))\n",
    "    Title.append(d.find(class_=\"title\").text.replace(\"\\t\", \"\").replace(\"\\n\", \"\"))\n",
    "    Date.append(d.find(class_=\"date\").text.replace(\"\\t\", \"\").replace(\"\\n\", \"\"))\n",
    "\n",
    "df = pd.DataFrame({\"Title\": Title, \"Author\": Author}, index = Date)\n",
    "print(df.iloc[-6])"
   ]
  },
  {
   "cell_type": "markdown",
   "metadata": {},
   "source": [
    "### ② 印出第一頁所有文章的「作者」「標題」「時間」"
   ]
  },
  {
   "cell_type": "code",
   "execution_count": 3,
   "metadata": {},
   "outputs": [
    {
     "name": "stdout",
     "output_type": "stream",
     "text": [
      "Author:Yui5\n",
      "[情報] Perkins支持LBJ MVP：他是在西區打出表現\n",
      "Date: 3/10\n",
      "Author:Yui5\n",
      "[新聞] 湯瑪斯與克勞佛待價而沽 安吉點出現實殘\n",
      "Date: 3/10\n",
      "Author:VeryGoodBoy\n",
      "[情報] Perkins: 暴龍教練是今年最佳教練\n",
      "Date: 3/10\n",
      "Author:smallksc\n",
      "Re: [討論] NBA有誰是低調的強?\n",
      "Date: 3/10\n",
      "Author:PttGod\n",
      "[新聞] 請纓盯字母哥與雷納德 詹皇：剩下就是歷\n",
      "Date: 3/10\n",
      "Author:-\n",
      "(本文已被刪除) [go190214]\n",
      "Date: 3/10\n",
      "Author:sodistrues\n",
      "[新聞] 韋德力薦角逐最佳防守球員 史馬特：真的\n",
      "Date: 3/10\n",
      "Author:Vedan\n",
      "[公告] 板規v6.8\n",
      "Date: 5/24\n",
      "Author:qazwsx879345\n",
      "[公告] 版主上任相關事項 \n",
      "Date:10/25\n",
      "Author:Acetoxy\n",
      "[情報] SEASON Schedule 賽程 March 19–20\n",
      "Date: 3/02\n",
      "Author:Vedan\n",
      "Fw: [公告] 即日起開放 NTU 信箱註冊帳號\n",
      "Date: 3/04\n",
      "Author:Vedan\n",
      "[公告] 第一次被退文，可在三天後刪除退文\n",
      "Date: 3/09\n"
     ]
    }
   ],
   "source": [
    "for d in soup.find_all(class_=\"r-ent\"):\n",
    "    print(\"Author:\" + d.find(class_=\"author\").text.replace(\"\\t\", \"\").replace(\"\\n\", \"\"))\n",
    "    print(d.find(class_=\"title\").text.replace(\"\\t\", \"\").replace(\"\\n\", \"\"))\n",
    "    print(\"Date:\" + d.find(class_=\"date\").text.replace(\"\\t\", \"\").replace(\"\\n\", \"\"))"
   ]
  },
  {
   "cell_type": "markdown",
   "metadata": {},
   "source": [
    "### ③ 試著爬爬看其他版的文章"
   ]
  },
  {
   "cell_type": "code",
   "execution_count": 4,
   "metadata": {},
   "outputs": [
    {
     "name": "stdout",
     "output_type": "stream",
     "text": [
      "Author:littlered555\n",
      "[活動] 玧其TMI阿拉油？ - 第5題\n",
      "Date: 3/09\n",
      "Author:littlered555\n",
      "[活動] 玧其TMI阿拉油？ - 第6題\n",
      "Date: 3/09\n",
      "Author:littlered555\n",
      "[活動] 玧其TMI阿拉油？ - 第7題\n",
      "Date: 3/09\n",
      "Author:littlered555\n",
      "[活動] 玧其TMI阿拉油？ - 第8題\n",
      "Date: 3/09\n",
      "Author:littlered555\n",
      "[活動] 玧其TMI阿拉油？ - 第9題\n",
      "Date: 3/09\n",
      "Author:littlered555\n",
      "[活動] 玧其TMI阿拉油？ - 最後一題\n",
      "Date: 3/09\n",
      "Author:goemillisa\n",
      "[照片] 200309(200308) SBS 人氣歌謠 官網照片更新\n",
      "Date: 3/09\n",
      "Author:sodavoxyi\n",
      "[影音] 200310 [V] 南俊的7 behind\n",
      "Date: 3/10\n",
      "Author:sodavoxyi\n",
      "[影音] 200310 [BT21] #BT21BABY #BeAstoryteller\n",
      "Date: 3/10\n",
      "Author:sodavoxyi\n",
      "[影音] 200310 [EPISODE] BTS 'Black Swan' MV Shooting Sketch\n",
      "Date: 3/10\n",
      "Author:sodavoxyi\n",
      "[影音] 200310 [V] Run BTS! 2020 EP.95\n",
      "Date: 3/10\n",
      "Author:tintin007\n",
      "[影音] 200309 RADIO.COM (美國專訪)\n",
      "Date: 3/10\n",
      "Author:Im22Yo\n",
      "[影音] 200311 BTS 5TH MUSTER \"MAGIC SHOP\" DVD PREVIEW SPOT\n",
      "Date: 3/10\n",
      "Author:amorneo\n",
      "[公告] ▲▼BTS 板規 2.0.2▼▲ (20190110起適用)\n",
      "Date: 1/10\n",
      "Author:tintin007\n",
      "[防彈] 專輯／周邊小卡交換區\n",
      "Date: 8/09\n",
      "Author:sodavoxyi\n",
      "[閒聊] MAP OF THE SOUL：7 成績紀錄彙整\n",
      "Date: 2/21\n",
      "Author:tintin007\n",
      "[防彈] 2003行程表\n",
      "Date: 2/29\n",
      "Author:ps123cd0477\n",
      "[防彈] 200309 ~A.R.M.Y閒聊文\n",
      "Date: 3/09\n"
     ]
    }
   ],
   "source": [
    "url2 = \"https://www.ptt.cc/bbs/BTS/index.html\"\n",
    "r2 = requests.get(url2)\n",
    "\n",
    "soup2 = BeautifulSoup(r2.text, \"html5lib\")\n",
    "\n",
    "for d in soup2.find_all(class_=\"r-ent\"):\n",
    "    print(\"Author:\" + d.find(class_=\"author\").text.replace(\"\\t\", \"\").replace(\"\\n\", \"\"))\n",
    "    print(d.find(class_=\"title\").text.replace(\"\\t\", \"\").replace(\"\\n\", \"\"))\n",
    "    print(\"Date:\" + d.find(class_=\"date\").text.replace(\"\\t\", \"\").replace(\"\\n\", \"\"))"
   ]
  }
 ],
 "metadata": {
  "kernelspec": {
   "display_name": "Python 3",
   "language": "python",
   "name": "python3"
  },
  "language_info": {
   "codemirror_mode": {
    "name": "ipython",
    "version": 3
   },
   "file_extension": ".py",
   "mimetype": "text/x-python",
   "name": "python",
   "nbconvert_exporter": "python",
   "pygments_lexer": "ipython3",
   "version": "3.7.6"
  }
 },
 "nbformat": 4,
 "nbformat_minor": 2
}
